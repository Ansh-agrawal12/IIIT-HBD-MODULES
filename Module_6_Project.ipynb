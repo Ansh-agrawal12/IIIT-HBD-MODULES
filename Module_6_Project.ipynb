{
  "nbformat": 4,
  "nbformat_minor": 0,
  "metadata": {
    "colab": {
      "provenance": [],
      "authorship_tag": "ABX9TyMgf2uf0Ea2XUJgUM0AWbKT",
      "include_colab_link": true
    },
    "kernelspec": {
      "name": "python3",
      "display_name": "Python 3"
    },
    "language_info": {
      "name": "python"
    }
  },
  "cells": [
    {
      "cell_type": "markdown",
      "metadata": {
        "id": "view-in-github",
        "colab_type": "text"
      },
      "source": [
        "<a href=\"https://colab.research.google.com/github/Ansh-agrawal12/IIIT-HBD-MODULES/blob/main/Module_6_Project.ipynb\" target=\"_parent\"><img src=\"https://colab.research.google.com/assets/colab-badge.svg\" alt=\"Open In Colab\"/></a>"
      ]
    },
    {
      "cell_type": "markdown",
      "source": [
        "Module 6 Project: Regression analysis on a COVID-dataset"
      ],
      "metadata": {
        "id": "1bp-sTNVXuIl"
      }
    },
    {
      "cell_type": "markdown",
      "source": [
        "Data Analysis"
      ],
      "metadata": {
        "id": "6Z6v2yAyX0ai"
      }
    },
    {
      "cell_type": "markdown",
      "source": [
        "1. Load the data into a pandas dataframe."
      ],
      "metadata": {
        "id": "t5YgcpucX2Ox"
      }
    },
    {
      "cell_type": "code",
      "source": [
        "# Imports\n",
        "import pandas as pd\n",
        "import numpy  as np\n",
        "import scipy.integrate\n",
        "\n",
        "from matplotlib import pyplot as plt\n",
        "plt.style.use('ggplot')\n",
        "from matplotlib.pylab import rcParams\n",
        "rcParams['figure.figsize'] = 10, 8\n",
        "\n",
        "import copy\n",
        "from   sklearn.metrics       import mean_squared_error, mean_absolute_error\n",
        "from   sklearn.linear_model  import LinearRegression, BayesianRidge\n",
        "from   sklearn.tree          import DecisionTreeRegressor\n",
        "from   sklearn.preprocessing import PolynomialFeatures"
      ],
      "metadata": {
        "id": "hE9N5d5mX_hT"
      },
      "execution_count": null,
      "outputs": []
    },
    {
      "cell_type": "code",
      "source": [
        "path = \"https://raw.githubusercontent.com/PranavTadimeti/Regression_Project/main/covid_19_data.csv\"\n",
        "df_orig = pd.read_csv(path)\n",
        "print(df_orig)"
      ],
      "metadata": {
        "id": "A4NHDdksYFjJ"
      },
      "execution_count": null,
      "outputs": []
    },
    {
      "cell_type": "markdown",
      "source": [
        "2. Create a new dataframe which counts the cumulative total number of cases, the cumulative total number of deaths, and also cumulative total number of recoveries for each date."
      ],
      "metadata": {
        "id": "__O9BCqDYPZr"
      }
    },
    {
      "cell_type": "code",
      "source": [
        "df = copy.deepcopy(df_orig)\n",
        "df.drop('Last Update',inplace=True,axis=1)\n",
        "date_lst  = df.ObservationDate.unique()\n",
        "date_dict = {}\n",
        "\n",
        "for i in range(len(date_lst)):\n",
        "    df_temp = df.loc[df['ObservationDate'] == date_lst[i]]\n",
        "    date_dict[date_lst[i]] = df_temp"
      ],
      "metadata": {
        "id": "gyJFhNjyYREi"
      },
      "execution_count": null,
      "outputs": []
    },
    {
      "cell_type": "code",
      "source": [
        "date_tot_tup_dict = {};\n",
        "for date, df in date_dict.items():\n",
        "    tup_temp = (df['Confirmed'].sum(), df['Deaths'].sum(), df['Recovered'].sum())\n",
        "    date_tot_tup_dict[date] = tup_temp"
      ],
      "metadata": {
        "id": "waoRFAe6YZTC"
      },
      "execution_count": null,
      "outputs": []
    },
    {
      "cell_type": "code",
      "source": [
        "print(date_tot_tup_dict)"
      ],
      "metadata": {
        "id": "V5iW7_JyYdIp"
      },
      "execution_count": null,
      "outputs": []
    },
    {
      "cell_type": "code",
      "source": [
        "df_date_tots = pd.DataFrame(date_tot_tup_dict)\n",
        "df_date_tots = df_date_tots.transpose()\n",
        "df_date_tots.columns = ['Confirmed', 'Deaths', 'Recovered']\n",
        "print(df_date_tots.head())"
      ],
      "metadata": {
        "id": "YBN1BcQtYjKZ"
      },
      "execution_count": null,
      "outputs": []
    },
    {
      "cell_type": "markdown",
      "source": [
        "3. Create a new column in the dataframe called “closed cases”"
      ],
      "metadata": {
        "id": "fs3OUaAPwY0m"
      }
    },
    {
      "cell_type": "code",
      "source": [
        "df_date_tots['Closed Cases'] = df_date_tots['Deaths'] + df_date_tots['Recovered']"
      ],
      "metadata": {
        "id": "uL_svQekwaQx"
      },
      "execution_count": null,
      "outputs": []
    },
    {
      "cell_type": "markdown",
      "source": [
        "4. Create a new column in the dataframe called “active cases”"
      ],
      "metadata": {
        "id": "-jAv9V7xwh5j"
      }
    },
    {
      "cell_type": "code",
      "source": [
        "df_date_tots['Active Cases'] = df_date_tots['Confirmed'] - df_date_tots['Closed Cases']"
      ],
      "metadata": {
        "id": "phR3hQs_wmPZ"
      },
      "execution_count": null,
      "outputs": []
    },
    {
      "cell_type": "markdown",
      "source": [
        "5. Plot the total number of cases per day over time and summarize findings"
      ],
      "metadata": {
        "id": "-E7Dt358wrmQ"
      }
    },
    {
      "cell_type": "code",
      "source": [
        "plt.figure(figsize = [15,5])\n",
        "plt.plot(df_date_tots['Confirmed'], label = \"Confirmed Cases\")\n",
        "plt.plot(df_date_tots['Deaths'], label    = \"Deaths\")\n",
        "plt.plot(df_date_tots['Recovered'], label = \"Recovered Cases\")\n",
        "\n",
        "plt.legend()\n",
        "plt.xlabel(\"Day\")\n",
        "plt.ylabel(\"Count\")\n",
        "plt.xticks(rotation = 90);\n",
        "start_date = str(date_lst[0]);\n",
        "fin_date   = str(date_lst[len(date_lst) -1])\n",
        "plt.title(\"Total Cases, Deaths, and Recoveries : \" + start_date + \" - \" + fin_date);\n"
      ],
      "metadata": {
        "id": "4CzhFJYfwy0D"
      },
      "execution_count": null,
      "outputs": []
    },
    {
      "cell_type": "markdown",
      "source": [
        "6. Create one plot showing the trend of number of active cases and closed cases"
      ],
      "metadata": {
        "id": "jyLlzpHcxGU5"
      }
    },
    {
      "cell_type": "code",
      "source": [
        "plt.figure(figsize = [15,5])\n",
        "plt.plot(df_date_tots['Active Cases'], label = \"Active Cases\")\n",
        "plt.plot(df_date_tots['Closed Cases'], label = \"Closed Cases\")\n",
        "\n",
        "plt.legend();\n",
        "plt.xlabel(\"Day\")\n",
        "plt.ylabel(\"Count\")\n",
        "plt.xticks(rotation = 90)\n",
        "start_date = str(date_lst[0])\n",
        "fin_date   = str(date_lst[len(date_lst) -1])\n",
        "plt.title(\"Active Cases vs Closed Cases COVID-19 : \" + start_date + \" - \" + fin_date);"
      ],
      "metadata": {
        "id": "yzS6PEJ4xHsR"
      },
      "execution_count": null,
      "outputs": []
    },
    {
      "cell_type": "markdown",
      "source": [
        "7. Growth Factor"
      ],
      "metadata": {
        "id": "SAt3i8pgxPLo"
      }
    },
    {
      "cell_type": "code",
      "source": [
        "growth_len_lst = len(date_lst) - 1\n",
        "confirmed_lst = df_date_tots[\"Confirmed\"]\n",
        "death_lst = df_date_tots[\"Deaths\"]\n",
        "recovered_lst = df_date_tots[\"Recovered\"]\n",
        "confGF_lst = []\n",
        "deathsGF_lst = []\n",
        "recovGF_lst = []\n",
        "for i in range(growth_len_lst):\n",
        "    confirmedGF = confirmed_lst[i+1] / confirmed_lst[i]\n",
        "    confGF_lst.append(confirmedGF)\n",
        "    deathGF = death_lst[i+1] / death_lst[i]\n",
        "    deathsGF_lst.append(deathGF)\n",
        "    recoveredGF = recovered_lst[i+1] / recovered_lst[i]\n",
        "    recovGF_lst.append(recoveredGF);\n"
      ],
      "metadata": {
        "id": "Jc-Huvv_xRFI"
      },
      "execution_count": null,
      "outputs": []
    },
    {
      "cell_type": "markdown",
      "source": [
        "8. Create one plot showing the Growth factor of confirmed, recovered and death cases wrt days"
      ],
      "metadata": {
        "id": "y4stKhW4xY3X"
      }
    },
    {
      "cell_type": "code",
      "source": [
        "plt.figure(figsize = [15,5])\n",
        "plt.plot(confGF_lst, label = \"Growth Factor of Confirmed Cases\")\n",
        "plt.plot(deathsGF_lst, label = \"Growth Factor of Deaths\")\n",
        "plt.plot(recovGF_lst, label = \"Growth Factor of Recovered Cases\")\n",
        "x = []\n",
        "for i in range((growth_len_lst)):\n",
        "    x.append(1)\n",
        "plt.plot(x, label = \"Growth Factor = 1.0\")\n",
        "\n",
        "#plt.grid()\n",
        "plt.legend()\n",
        "plt.xlabel(\"Day\")\n",
        "plt.ylabel(\"Growth Ratio\")\n",
        "plt.ylim(.5,2)\n",
        "plt.xticks(rotation = 90)\n",
        "start_date = str(date_lst[0])\n",
        "fin_date   = str(date_lst[len(date_lst) -1])\n",
        "plt.title(\"Growth Factors of Confirmed, Death, and Recovered Cases COVID-19 : \" +start_date +\" - \" +fin_date)"
      ],
      "metadata": {
        "id": "QXwh3FZMxa2-"
      },
      "execution_count": null,
      "outputs": []
    },
    {
      "cell_type": "markdown",
      "source": [
        "Part 2 - Prediction Using Linear Regression"
      ],
      "metadata": {
        "id": "59Lr-gInxmMZ"
      }
    },
    {
      "cell_type": "code",
      "source": [
        "days_since_lst = []\n",
        "for i in range(len(date_lst)):\n",
        "    days_since_lst.append(i)\n",
        "df_date_tots[\"Days Since:\"] = days_since_lst\n",
        "df_date_tots = df_date_tots[[\"Days Since:\", \"Confirmed\", \"Deaths\", \"Recovered\", \"Active Cases\", \"Closed Cases\"]]\n"
      ],
      "metadata": {
        "id": "OJnheh7oxn6v"
      },
      "execution_count": null,
      "outputs": []
    },
    {
      "cell_type": "markdown",
      "source": [
        "8. Take the earliest 85% of the dates as train and the rest as test"
      ],
      "metadata": {
        "id": "k_rFma_7xvzP"
      }
    },
    {
      "cell_type": "code",
      "source": [
        "from sklearn.model_selection import train_test_split, RandomizedSearchCV\n",
        "from sklearn.preprocessing import StandardScaler\n",
        "\n",
        "X = np.array(df_date_tots[\"Days Since:\"]).reshape(-1,1)\n",
        "y = np.array(df_date_tots[\"Confirmed\"])\n"
      ],
      "metadata": {
        "id": "0mmjZNCOx0On"
      },
      "execution_count": null,
      "outputs": []
    },
    {
      "cell_type": "code",
      "source": [
        "X_train, X_test, y_train, y_test = train_test_split(X,\n",
        "                                                    y,\n",
        "                                                    test_size = 0.15,\n",
        "                                                    shuffle = False)"
      ],
      "metadata": {
        "id": "gwm3fR6vx3_o"
      },
      "execution_count": null,
      "outputs": []
    },
    {
      "cell_type": "markdown",
      "source": [
        "9. We can try different regression and regularizations we have seen before\n"
      ],
      "metadata": {
        "id": "J30EsWaOx94U"
      }
    },
    {
      "cell_type": "markdown",
      "source": [
        "9.1 Linear Regression"
      ],
      "metadata": {
        "id": "HQ54KSMTyCsL"
      }
    },
    {
      "cell_type": "code",
      "source": [
        "lin_model = LinearRegression(fit_intercept = False)\n",
        "lin_model.fit(X_train, y_train)\n",
        "test_lin_pred = lin_model.predict(X_test)\n",
        "lin_pred = lin_model.predict(X)"
      ],
      "metadata": {
        "id": "g0axjbJPyGSD"
      },
      "execution_count": null,
      "outputs": []
    },
    {
      "cell_type": "code",
      "source": [
        "plt.figure(figsize = [15,5])\n",
        "# plotting the actual values for the future days\n",
        "plt.plot(X_test,\n",
        "         y_test,\n",
        "         label = \"Actual Confirmed Cases\")\n",
        "# plotting the predicited values for the future days\n",
        "plt.plot(X_test,\n",
        "         test_lin_pred,\n",
        "         label = \"Lin Regression predicted Confirmed Cases\")\n",
        "plt.grid();\n",
        "plt.legend();\n",
        "plt.xlabel(\"Day\", size = 25)\n",
        "plt.ylabel(\"Count\", size = 25)\n",
        "plt.xticks(rotation = 90, size = 15)\n",
        "plt.show()\n",
        "\n",
        "print('MAE:', mean_absolute_error (test_lin_pred, X_test))\n",
        "print('MSE:', mean_squared_error  (test_lin_pred, X_test))"
      ],
      "metadata": {
        "id": "F8DhKlqayKYL"
      },
      "execution_count": null,
      "outputs": []
    },
    {
      "cell_type": "markdown",
      "source": [
        "Polynomial Regression"
      ],
      "metadata": {
        "id": "zI4D4XsCyO5P"
      }
    },
    {
      "cell_type": "code",
      "source": [
        "poly = PolynomialFeatures(degree=5)\n",
        "poly_X_train = poly.fit_transform(X_train)\n",
        "poly_X_test  = poly.fit_transform(X_test)\n",
        "poly_X = poly.fit_transform(X)"
      ],
      "metadata": {
        "id": "Ux8ISVEMyQuO"
      },
      "execution_count": null,
      "outputs": []
    },
    {
      "cell_type": "code",
      "source": [
        "linear_model = LinearRegression(fit_intercept=False)\n",
        "linear_model.fit(poly_X_train, y_train)\n",
        "test_poly_pred = linear_model.predict(poly_X_test)\n",
        "poly_pred = linear_model.predict(poly_X)\n"
      ],
      "metadata": {
        "id": "YgyJXDFiyUxG"
      },
      "execution_count": null,
      "outputs": []
    },
    {
      "cell_type": "code",
      "source": [
        "plt.figure(figsize = [15,5])\n",
        "\n",
        "# plotting the actual values for the future days\n",
        "plt.plot(X_test,\n",
        "         y_test,\n",
        "         label = \"Actual Confirmed Cases\")\n",
        "\n",
        "# plotting the predicited values for the future days\n",
        "plt.plot(X_test,\n",
        "         test_poly_pred,\n",
        "         label = \"Polynomial Regression Confirmed Cases\")\n",
        "plt.grid();\n",
        "plt.legend();\n",
        "plt.xlabel(\"Day\", size = 25)\n",
        "plt.ylabel(\"Count\", size = 25)\n",
        "plt.xticks(rotation = 90, size = 15);\n",
        "plt.show()\n",
        "\n",
        "print('MAE:', mean_absolute_error(test_poly_pred, y_test))\n",
        "print('MSE:',mean_squared_error(test_poly_pred, y_test))"
      ],
      "metadata": {
        "id": "7TcLYYONyji7"
      },
      "execution_count": null,
      "outputs": []
    },
    {
      "cell_type": "code",
      "source": [
        "plt.figure(figsize=(15, 5))\n",
        "plt.plot(X,\n",
        "         y,\n",
        "         label = 'Actual Future Cases')\n",
        "\n",
        "plt.plot(X,\n",
        "         poly_pred,\n",
        "         label = 'Polynomial Regression Prediction of Future Cases',\n",
        "         linestyle = \"dashed\")\n",
        "\n",
        "plt.plot(X_train,\n",
        "         y_train,\n",
        "         label = 'Training Cases')\n",
        "\n",
        "plt.xlabel('Days Since', size = 30)\n",
        "plt.ylabel('# of Cases', size = 30)\n",
        "plt.legend()\n",
        "plt.xticks(size=20)\n",
        "plt.yticks(size=20)\n",
        "plt.show()"
      ],
      "metadata": {
        "id": "3kiXe-FhysXO"
      },
      "execution_count": null,
      "outputs": []
    },
    {
      "cell_type": "markdown",
      "source": [
        "9.2 Ridge Regression"
      ],
      "metadata": {
        "id": "Qnre9zu7ywZ-"
      }
    },
    {
      "cell_type": "code",
      "source": [
        "tol      = [1e-4, 1e-3, 1e-2]\n",
        "alpha_1  = [1e-7, 1e-6, 1e-5, 1e-4]\n",
        "alpha_2  = [1e-7, 1e-6, 1e-5, 1e-4]\n",
        "lambda_1 = [1e-7, 1e-6, 1e-5, 1e-4]\n",
        "lambda_2 = [1e-7, 1e-6, 1e-5, 1e-4]\n",
        "\n",
        "bayesian_grid = {'tol': tol,\n",
        "                 'alpha_1': alpha_1,\n",
        "                 'alpha_2' : alpha_2,\n",
        "                 'lambda_1': lambda_1,\n",
        "                 'lambda_2' : lambda_2 }\n",
        "\n",
        "bayesian = BayesianRidge(fit_intercept=False)\n",
        "bayesian_search = RandomizedSearchCV(bayesian,\n",
        "                                     bayesian_grid,\n",
        "                                     scoring='neg_mean_squared_error',\n",
        "                                     cv=3,\n",
        "                                     return_train_score=True,\n",
        "                                     n_jobs=-1,\n",
        "                                     n_iter=40,\n",
        "                                     verbose=1)\n",
        "\n",
        "bayesian_search.fit(X_train, y_train)\n",
        "\n",
        "print(bayesian_search.best_params_)"
      ],
      "metadata": {
        "id": "snWpUX9myx5g"
      },
      "execution_count": null,
      "outputs": []
    },
    {
      "cell_type": "code",
      "source": [
        "y_test_ridge_pred = bayesian_search.predict(X_test);\n",
        "y_ridge_pred = bayesian_search.predict(X);"
      ],
      "metadata": {
        "id": "U2KWiOQ3y5TN"
      },
      "execution_count": null,
      "outputs": []
    },
    {
      "cell_type": "code",
      "source": [
        "plt.figure(figsize = [15,5])\n",
        "\n",
        "# plotting the actual values for the future days\n",
        "plt.plot(X_test,\n",
        "         y_test,\n",
        "         label = \"Actual Confirmed Cases\")\n",
        "\n",
        "# plotting the predicited values for the future days\n",
        "plt.plot(X_test,\n",
        "         y_test_ridge_pred,\n",
        "         label = \"Ridge predicted Confirmed Cases\")\n",
        "plt.grid();\n",
        "plt.legend();\n",
        "plt.xlabel(\"Day\", size = 25)\n",
        "plt.ylabel(\"Count\", size = 25)\n",
        "plt.xticks(rotation = 90, size = 15);\n",
        "plt.show()\n",
        "\n",
        "print('MAE:', mean_absolute_error (y_test_ridge_pred, X_test))\n",
        "print('MSE:', mean_squared_error  (y_test_ridge_pred, X_test))"
      ],
      "metadata": {
        "id": "LeucZA41y9u6"
      },
      "execution_count": null,
      "outputs": []
    },
    {
      "cell_type": "code",
      "source": [
        "plt.figure(figsize=(15, 5))\n",
        "plt.plot(X,\n",
        "         y,\n",
        "         label = 'Actual Future Cases')\n",
        "plt.plot(X,\n",
        "         y_ridge_pred,\n",
        "         label = 'Ridge Prediction of Future Cases',\n",
        "         linestyle = \"dashed\")\n",
        "plt.plot(X_train,\n",
        "         y_train,\n",
        "         label = 'Training Cases')\n",
        "\n",
        "#plt.title('# of Coronavirus Cases Over Time', size=30)\n",
        "plt.xlabel('Days Since', size = 30)\n",
        "plt.ylabel('# of Cases', size = 30)\n",
        "plt.legend()\n",
        "plt.xticks(size=20)\n",
        "plt.yticks(size=20)\n",
        "plt.show()"
      ],
      "metadata": {
        "id": "q_DflSThzCYo"
      },
      "execution_count": null,
      "outputs": []
    },
    {
      "cell_type": "markdown",
      "source": [
        "Polynomial Ridge Regression"
      ],
      "metadata": {
        "id": "Af5Lby2XzGv_"
      }
    },
    {
      "cell_type": "code",
      "source": [
        "bayesian_search_poly = RandomizedSearchCV(bayesian,\n",
        "                                     bayesian_grid,\n",
        "                                     scoring='neg_mean_squared_error',\n",
        "                                     cv=3,\n",
        "                                     return_train_score=True,\n",
        "                                     n_jobs=-1,\n",
        "                                     n_iter=40,\n",
        "                                     verbose=1)\n"
      ],
      "metadata": {
        "id": "DuHndus3zIMd"
      },
      "execution_count": null,
      "outputs": []
    },
    {
      "cell_type": "code",
      "source": [
        "bayesian_search_poly.fit(poly_X_train, y_train);\n",
        "print(bayesian_search_poly.best_params_)"
      ],
      "metadata": {
        "id": "PBOT9WbVzOw9"
      },
      "execution_count": null,
      "outputs": []
    },
    {
      "cell_type": "code",
      "source": [
        "bayesian_poly_confirmed = bayesian_search_poly.best_estimator_\n",
        "test_poly_bayesian_pred = bayesian_poly_confirmed.predict(poly_X_test)\n",
        "bayesian_poly_pred = bayesian_poly_confirmed.predict(poly_X)"
      ],
      "metadata": {
        "id": "_yCcQyZ2zSxd"
      },
      "execution_count": null,
      "outputs": []
    },
    {
      "cell_type": "code",
      "source": [
        "plt.figure(figsize = [15,5])\n",
        "\n",
        "# plotting the actual values for the future days\n",
        "plt.plot(X_test,\n",
        "         y_test,\n",
        "         label = \"Actual Confirmed Cases\")\n",
        "\n",
        "# plotting the predicited values for the future days\n",
        "plt.plot(X_test,\n",
        "         test_poly_bayesian_pred,\n",
        "         label = \"Ridge Polynomial predicted Confirmed Cases\")\n",
        "plt.grid();\n",
        "plt.legend();\n",
        "plt.xlabel(\"Day\", size = 25)\n",
        "plt.ylabel(\"Count\", size = 25)\n",
        "plt.xticks(rotation = 90, size = 15)\n",
        "plt.show()\n",
        "\n",
        "print ('MAE:', mean_absolute_error(test_poly_bayesian_pred, y_test))\n",
        "print ('MSE:', mean_squared_error (test_poly_bayesian_pred, y_test))"
      ],
      "metadata": {
        "id": "uzRARt7-zWse"
      },
      "execution_count": null,
      "outputs": []
    },
    {
      "cell_type": "code",
      "source": [
        "plt.figure(figsize=(15, 5))\n",
        "plt.plot(X,\n",
        "         y,\n",
        "         label = 'Actual Future Cases')\n",
        "plt.plot(X,\n",
        "         bayesian_poly_pred,\n",
        "         label = 'Ridge Polynomial Prediction of Future Cases',\n",
        "         linestyle = \"dashed\")\n",
        "plt.plot(X_train,\n",
        "         y_train,\n",
        "         label = 'Training Cases')\n",
        "\n",
        "#plt.title('# of Coronavirus Cases Over Time', size=30)\n",
        "plt.xlabel('Days Since', size = 30)\n",
        "plt.ylabel('# of Cases', size = 30)\n",
        "#plt.grid()\n",
        "plt.legend()\n",
        "plt.xticks(size=20)\n",
        "plt.yticks(size=20)\n",
        "plt.show()"
      ],
      "metadata": {
        "id": "Lt3HL2cFzbP4"
      },
      "execution_count": null,
      "outputs": []
    },
    {
      "cell_type": "code",
      "source": [
        "print(\"Polynomial Regression \")\n",
        "print('\\tMAE:', mean_absolute_error(test_poly_pred, y_test))\n",
        "print('\\tMSE:',mean_squared_error(test_poly_pred, y_test))\n",
        "\n",
        "print(\"\\nRidge Polynomial Regression \")\n",
        "print ('\\tMAE:', mean_absolute_error(test_poly_bayesian_pred, y_test))\n",
        "print ('\\tMSE:', mean_squared_error (test_poly_bayesian_pred, y_test))"
      ],
      "metadata": {
        "id": "8hc_uX8hzgx4"
      },
      "execution_count": null,
      "outputs": []
    }
  ]
}